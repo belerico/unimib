{
  "nbformat": 4,
  "nbformat_minor": 0,
  "metadata": {
    "colab": {
      "name": "assignment1.ipynb",
      "provenance": [],
      "collapsed_sections": [],
      "include_colab_link": true
    },
    "kernelspec": {
      "name": "python3",
      "display_name": "Python 3"
    },
    "accelerator": "GPU"
  },
  "cells": [
    {
      "cell_type": "markdown",
      "metadata": {
        "id": "view-in-github",
        "colab_type": "text"
      },
      "source": [
        "<a href=\"https://colab.research.google.com/github/belerico/unimib/blob/master/advanced%20machine%20learning/assignment%201/assignment1.ipynb\" target=\"_parent\"><img src=\"https://colab.research.google.com/assets/colab-badge.svg\" alt=\"Open In Colab\"/></a>"
      ]
    },
    {
      "cell_type": "code",
      "metadata": {
        "id": "WGvjylVyc6F2",
        "colab_type": "code",
        "colab": {}
      },
      "source": [
        "!pip install -U scipy\n",
        "!pip install -U pandas_profiling\n",
        "!pip install -U keras\n",
        "!pip install -U keras_metrics"
      ],
      "execution_count": 0,
      "outputs": []
    },
    {
      "cell_type": "markdown",
      "metadata": {
        "id": "mlMIAEHRdb2A",
        "colab_type": "text"
      },
      "source": [
        "# Load dataset"
      ]
    },
    {
      "cell_type": "code",
      "metadata": {
        "id": "9-AgsoSQyze3",
        "colab_type": "code",
        "colab": {}
      },
      "source": [
        "import pandas as pd\n",
        "\n",
        "dataset = pd.read_csv(\"https://raw.githubusercontent.com/belerico/unimib/master/advanced%20machine%20learning/assignment%201/data/train.csv\")\n",
        "testset = pd.read_csv(\"https://raw.githubusercontent.com/belerico/unimib/master/advanced%20machine%20learning/assignment%201/data/test.csv\")\n",
        "DATASET_SIZE = len(dataset)\n",
        "N_TRAIN_DATA = int(DATASET_SIZE * 0.8)"
      ],
      "execution_count": 0,
      "outputs": []
    },
    {
      "cell_type": "markdown",
      "metadata": {
        "id": "uqkPS5t8xKmv",
        "colab_type": "text"
      },
      "source": [
        "# Data profiling"
      ]
    },
    {
      "cell_type": "code",
      "metadata": {
        "id": "2Pz-HwX9xN7J",
        "colab_type": "code",
        "colab": {}
      },
      "source": [
        "import pandas_profiling\n",
        "\n",
        "trainset.profile_report(style={'full_width':True})"
      ],
      "execution_count": 0,
      "outputs": []
    },
    {
      "cell_type": "code",
      "metadata": {
        "id": "SJJwTLrAILOV",
        "colab_type": "code",
        "colab": {}
      },
      "source": [
        "trainset.loc[trainset.iloc[:, -1] == 1].profile_report(style={'full_width':True})"
      ],
      "execution_count": 0,
      "outputs": []
    },
    {
      "cell_type": "markdown",
      "metadata": {
        "id": "dx95VG8q5xrX",
        "colab_type": "text"
      },
      "source": [
        "## Remove duplicates"
      ]
    },
    {
      "cell_type": "code",
      "metadata": {
        "id": "-wzvKoYE50cP",
        "colab_type": "code",
        "colab": {}
      },
      "source": [
        "dataset = dataset.drop_duplicates()"
      ],
      "execution_count": 0,
      "outputs": []
    },
    {
      "cell_type": "markdown",
      "metadata": {
        "id": "D6B2H1Gerrgt",
        "colab_type": "text"
      },
      "source": [
        "# Dataset split"
      ]
    },
    {
      "cell_type": "code",
      "metadata": {
        "id": "9EQ4xg53Mqwb",
        "colab_type": "code",
        "colab": {}
      },
      "source": [
        "valset = dataset.iloc[N_TRAIN_DATA:]\n",
        "trainset = dataset.iloc[:N_TRAIN_DATA]"
      ],
      "execution_count": 0,
      "outputs": []
    },
    {
      "cell_type": "markdown",
      "metadata": {
        "id": "MmeBbDyviQsp",
        "colab_type": "text"
      },
      "source": [
        "# Correlation"
      ]
    },
    {
      "cell_type": "code",
      "metadata": {
        "id": "HA_Vgxl1hVC7",
        "colab_type": "code",
        "colab": {
          "base_uri": "https://localhost:8080/",
          "height": 782
        },
        "outputId": "133cf1f8-2247-4d31-835b-49d0397d524c"
      },
      "source": [
        "import matplotlib.pyplot as plt\n",
        "\n",
        "correlation = trainset.corr()\n",
        "f = plt.figure(figsize=(12, 12))\n",
        "m = plt.matshow(correlation, fignum=f.number, cmap=plt.cm.coolwarm)\n",
        "plt.xticks(range(trainset.shape[1]), trainset.columns, fontsize=10, rotation=90)\n",
        "plt.yticks(range(trainset.shape[1]), trainset.columns, fontsize=10, rotation=0)\n",
        "plt.colorbar(m, fraction=0.046, pad=0.04)\n",
        "plt.show()"
      ],
      "execution_count": 286,
      "outputs": [
        {
          "output_type": "display_data",
          "data": {
            "image/png": "[encoded data removed]",
            "text/plain": [
              "<Figure size 864x864 with 2 Axes>"
            ]
          },
          "metadata": {
            "tags": []
          }
        }
      ]
    },
    {
      "cell_type": "markdown",
      "metadata": {
        "id": "_F-T_VBz5PGI",
        "colab_type": "text"
      },
      "source": [
        "## Remove correlated attributes"
      ]
    },
    {
      "cell_type": "code",
      "metadata": {
        "id": "RgR3qdyH5Sve",
        "colab_type": "code",
        "outputId": "bacca625-cd65-41fe-e79a-ea01f77b651b",
        "colab": {
          "base_uri": "https://localhost:8080/",
          "height": 224
        }
      },
      "source": [
        "import numpy as np\n",
        "\n",
        "correlation = correlation.abs()\n",
        "# Select upper triangle of correlation matrix\n",
        "upper = correlation.where(np.triu(np.ones(correlation.shape), k=1).astype(np.bool))\n",
        "# Find index of feature columns with correlation greater than 0.90\n",
        "highly_correlated_attrs = [column for column in upper.columns if any(upper[column] > 0.90)]\n",
        "trainset = trainset.drop(labels=highly_correlated_attrs, axis=1)\n",
        "trainset.head()"
      ],
      "execution_count": 287,
      "outputs": [
        {
          "output_type": "execute_result",
          "data": {
            "text/html": [
              "<div>\n",
              "<style scoped>\n",
              "    .dataframe tbody tr th:only-of-type {\n",
              "        vertical-align: middle;\n",
              "    }\n",
              "\n",
              "    .dataframe tbody tr th {\n",
              "        vertical-align: top;\n",
              "    }\n",
              "\n",
              "    .dataframe thead th {\n",
              "        text-align: right;\n",
              "    }\n",
              "</style>\n",
              "<table border=\"1\" class=\"dataframe\">\n",
              "  <thead>\n",
              "    <tr style=\"text-align: right;\">\n",
              "      <th></th>\n",
              "      <th>LIMIT_BAL</th>\n",
              "      <th>SEX</th>\n",
              "      <th>EDUCATION</th>\n",
              "      <th>MARRIAGE</th>\n",
              "      <th>AGE</th>\n",
              "      <th>PAY_0</th>\n",
              "      <th>PAY_2</th>\n",
              "      <th>PAY_3</th>\n",
              "      <th>PAY_4</th>\n",
              "      <th>PAY_5</th>\n",
              "      <th>PAY_6</th>\n",
              "      <th>BILL_AMT1</th>\n",
              "      <th>PAY_AMT1</th>\n",
              "      <th>PAY_AMT2</th>\n",
              "      <th>PAY_AMT3</th>\n",
              "      <th>PAY_AMT4</th>\n",
              "      <th>PAY_AMT5</th>\n",
              "      <th>PAY_AMT6</th>\n",
              "      <th>default.payment.next.month</th>\n",
              "    </tr>\n",
              "  </thead>\n",
              "  <tbody>\n",
              "    <tr>\n",
              "      <th>0</th>\n",
              "      <td>20000.0</td>\n",
              "      <td>2</td>\n",
              "      <td>2</td>\n",
              "      <td>1</td>\n",
              "      <td>24</td>\n",
              "      <td>2</td>\n",
              "      <td>2</td>\n",
              "      <td>-1</td>\n",
              "      <td>-1</td>\n",
              "      <td>-2</td>\n",
              "      <td>-2</td>\n",
              "      <td>3913.0</td>\n",
              "      <td>0.0</td>\n",
              "      <td>689.0</td>\n",
              "      <td>0.0</td>\n",
              "      <td>0.0</td>\n",
              "      <td>0.0</td>\n",
              "      <td>0.0</td>\n",
              "      <td>1</td>\n",
              "    </tr>\n",
              "    <tr>\n",
              "      <th>1</th>\n",
              "      <td>120000.0</td>\n",
              "      <td>2</td>\n",
              "      <td>2</td>\n",
              "      <td>2</td>\n",
              "      <td>26</td>\n",
              "      <td>-1</td>\n",
              "      <td>2</td>\n",
              "      <td>0</td>\n",
              "      <td>0</td>\n",
              "      <td>0</td>\n",
              "      <td>2</td>\n",
              "      <td>2682.0</td>\n",
              "      <td>0.0</td>\n",
              "      <td>1000.0</td>\n",
              "      <td>1000.0</td>\n",
              "      <td>1000.0</td>\n",
              "      <td>0.0</td>\n",
              "      <td>2000.0</td>\n",
              "      <td>1</td>\n",
              "    </tr>\n",
              "    <tr>\n",
              "      <th>2</th>\n",
              "      <td>90000.0</td>\n",
              "      <td>2</td>\n",
              "      <td>2</td>\n",
              "      <td>2</td>\n",
              "      <td>34</td>\n",
              "      <td>0</td>\n",
              "      <td>0</td>\n",
              "      <td>0</td>\n",
              "      <td>0</td>\n",
              "      <td>0</td>\n",
              "      <td>0</td>\n",
              "      <td>29239.0</td>\n",
              "      <td>1518.0</td>\n",
              "      <td>1500.0</td>\n",
              "      <td>1000.0</td>\n",
              "      <td>1000.0</td>\n",
              "      <td>1000.0</td>\n",
              "      <td>5000.0</td>\n",
              "      <td>0</td>\n",
              "    </tr>\n",
              "    <tr>\n",
              "      <th>3</th>\n",
              "      <td>50000.0</td>\n",
              "      <td>2</td>\n",
              "      <td>2</td>\n",
              "      <td>1</td>\n",
              "      <td>37</td>\n",
              "      <td>0</td>\n",
              "      <td>0</td>\n",
              "      <td>0</td>\n",
              "      <td>0</td>\n",
              "      <td>0</td>\n",
              "      <td>0</td>\n",
              "      <td>46990.0</td>\n",
              "      <td>2000.0</td>\n",
              "      <td>2019.0</td>\n",
              "      <td>1200.0</td>\n",
              "      <td>1100.0</td>\n",
              "      <td>1069.0</td>\n",
              "      <td>1000.0</td>\n",
              "      <td>0</td>\n",
              "    </tr>\n",
              "    <tr>\n",
              "      <th>4</th>\n",
              "      <td>50000.0</td>\n",
              "      <td>1</td>\n",
              "      <td>2</td>\n",
              "      <td>1</td>\n",
              "      <td>57</td>\n",
              "      <td>-1</td>\n",
              "      <td>0</td>\n",
              "      <td>-1</td>\n",
              "      <td>0</td>\n",
              "      <td>0</td>\n",
              "      <td>0</td>\n",
              "      <td>8617.0</td>\n",
              "      <td>2000.0</td>\n",
              "      <td>36681.0</td>\n",
              "      <td>10000.0</td>\n",
              "      <td>9000.0</td>\n",
              "      <td>689.0</td>\n",
              "      <td>679.0</td>\n",
              "      <td>0</td>\n",
              "    </tr>\n",
              "  </tbody>\n",
              "</table>\n",
              "</div>"
            ],
            "text/plain": [
              "   LIMIT_BAL  SEX  EDUCATION  ...  PAY_AMT5  PAY_AMT6  default.payment.next.month\n",
              "0    20000.0    2          2  ...       0.0       0.0                           1\n",
              "1   120000.0    2          2  ...       0.0    2000.0                           1\n",
              "2    90000.0    2          2  ...    1000.0    5000.0                           0\n",
              "3    50000.0    2          2  ...    1069.0    1000.0                           0\n",
              "4    50000.0    1          2  ...     689.0     679.0                           0\n",
              "\n",
              "[5 rows x 19 columns]"
            ]
          },
          "metadata": {
            "tags": []
          },
          "execution_count": 287
        }
      ]
    },
    {
      "cell_type": "markdown",
      "metadata": {
        "id": "qRA6XV3jKBaO",
        "colab_type": "text"
      },
      "source": [
        "# Sampling from distribution "
      ]
    },
    {
      "cell_type": "code",
      "metadata": {
        "id": "BVkTosP3KEVE",
        "colab_type": "code",
        "colab": {}
      },
      "source": [
        "import math\n",
        "import random\n",
        "\n",
        "def discrete_sampling(n: int, pdf, values):\n",
        "  assert(n > 0)\n",
        "  assert(math.isclose(sum(pdf), 1))\n",
        "  assert(len(pdf) == len(values))\n",
        "  return __discrete_sampling(n, pdf, values)  \n",
        "    \n",
        "def __discrete_sampling(n: int, pdf, values):\n",
        "  # Pair up probabilities and values\n",
        "  pdf_values = list(zip(pdf, values))\n",
        "  # Sort them \n",
        "  pdf_values.sort(reverse=True)\n",
        "  # Compute the cumulative sum over pdfs\n",
        "  # cdf_values = list(zip(list(accumulate([x[0] for x in pdf_values])), [x[1] for x in pdf_values]))\n",
        "  cdf_values = [pdf_values[0]] + [(pdf_values[i][0] + pdf_values[i-1][0], pdf_values[i][1]) for i in range(1, len(pdf_values))]\n",
        "  # sorted_indices = numpy.argsort(pdf)\n",
        "  # cdf = numpy.cumsum([pdf[i] for i in reversed(sorted_indices)])\n",
        "  # cdf_values = list(zip(cdf, [values[i] for i in reversed(sorted_indices)]))\n",
        "  sample = [0] * n\n",
        "  for i in range(0, n):\n",
        "      for p, value in cdf_values:\n",
        "          rand = random.random()\n",
        "          if (rand <= p):\n",
        "              sample[i] = value\n",
        "              break\n",
        "  return sample "
      ],
      "execution_count": 0,
      "outputs": []
    },
    {
      "cell_type": "markdown",
      "metadata": {
        "id": "jzaYKogujmev",
        "colab_type": "text"
      },
      "source": [
        "## Compute distributions per column, where the label is equal to 1\n",
        "\n",
        "Such as an naive bayes approach, we consider the remaining columns `conditionally independent`.\n",
        "Therefore we can estimate the probabilistic density function for each random variable from Ptrain(X)"
      ]
    },
    {
      "cell_type": "code",
      "metadata": {
        "id": "r3VjhjYxjkbC",
        "colab_type": "code",
        "colab": {}
      },
      "source": [
        "trainset_class_1 = trainset[trainset.iloc[:, -1] == 1]\n",
        "pdfs = []\n",
        "values = []\n",
        "# Compute all attributes pdfs\n",
        "for col in trainset.columns:\n",
        "  counts = trainset_class_1.loc[:, col].value_counts(normalize=True)\n",
        "  pdfs.append(counts.values.tolist())\n",
        "  values.append(counts.index.tolist())"
      ],
      "execution_count": 0,
      "outputs": []
    },
    {
      "cell_type": "markdown",
      "metadata": {
        "id": "rFwLkWZJXg_l",
        "colab_type": "text"
      },
      "source": [
        "## Hashing dataset values"
      ]
    },
    {
      "cell_type": "code",
      "metadata": {
        "id": "yMjHMK1yXs6G",
        "colab_type": "code",
        "colab": {}
      },
      "source": [
        "unique_values = {}\n",
        "for row in trainset.iloc[:, :-1].values:\n",
        "  unique_values[str(row)] = 1\n",
        "  additional_values_class_1.append(row)\n"
      ],
      "execution_count": 0,
      "outputs": []
    },
    {
      "cell_type": "markdown",
      "metadata": {
        "id": "lZ84k4dijq4S",
        "colab_type": "text"
      },
      "source": [
        "## Sampling values from distribution for any attribute\n",
        "We use the previously calculated pdfs to oversample the trainset for labels = 1"
      ]
    },
    {
      "cell_type": "code",
      "metadata": {
        "id": "rnExwX9CKfNN",
        "colab_type": "code",
        "colab": {}
      },
      "source": [
        "oversampled_trainset = trainset.copy(deep=True)\n",
        "for _ in range(len(trainset) - 2*len(trainset_class_1)):\n",
        "  sample = [np.random.choice(values[i], 1, p=pdfs[i])[0] for i in range(len(trainset.columns) - 1)] + [1]\n",
        "  while True:\n",
        "    try:\n",
        "      unique_values[str(sample)]\n",
        "    except KeyError:\n",
        "      unique_values[str(sample)] = 1\n",
        "      additional_values_class_1.append(sample)\n",
        "      break\n",
        "additional_class_1 = pd.DataFrame(additional_values_class_1, columns=trainset.columns)"
      ],
      "execution_count": 0,
      "outputs": []
    },
    {
      "cell_type": "code",
      "metadata": {
        "id": "eH9f0fwnUVtS",
        "colab_type": "code",
        "colab": {}
      },
      "source": [
        "oversampled_trainset = trainset.append(additional_class_1, ignore_index=True)"
      ],
      "execution_count": 0,
      "outputs": []
    },
    {
      "cell_type": "markdown",
      "metadata": {
        "id": "LmK7JzdwuIy7",
        "colab_type": "text"
      },
      "source": [
        "# k-means SMOTE sampling\n",
        "\n",
        "Essentially, for any feature point it takes the nearest neighbor point based on a previous clustering, it takes the difference between those two point and multiplies it by a random number between 0 and 1 (it's taking a point on the line connecting the points)"
      ]
    },
    {
      "cell_type": "code",
      "metadata": {
        "id": "vleScNthuLi_",
        "colab_type": "code",
        "colab": {}
      },
      "source": [
        "pip install -U imbalanced-learn"
      ],
      "execution_count": 0,
      "outputs": []
    },
    {
      "cell_type": "code",
      "metadata": {
        "id": "UnQTmQ9dyEIS",
        "colab_type": "code",
        "colab": {}
      },
      "source": [
        "from imblearn.over_sampling import KMeansSMOTE\n",
        "\n",
        "sm = KMeansSMOTE(sampling_strategy='minority', random_state=42, kmeans_estimator=20, cluster_balance_threshold=0.35)\n",
        "x_oversampled, y_oversampled = sm.fit_resample(trainset.iloc[:, :-1].values, trainset.iloc[:, -1].values)\n",
        "oversampled_trainset = pd.DataFrame(x_oversampled, columns=trainset.columns[:-1])\n",
        "oversampled_trainset[trainset.columns[-1]] = y_oversampled"
      ],
      "execution_count": 0,
      "outputs": []
    },
    {
      "cell_type": "code",
      "metadata": {
        "id": "2ljbsvfYOQty",
        "colab_type": "code",
        "colab": {}
      },
      "source": [
        "print(oversampled_trainset.duplicated(keep=False))"
      ],
      "execution_count": 0,
      "outputs": []
    },
    {
      "cell_type": "markdown",
      "metadata": {
        "id": "wgTA7XyU5XZY",
        "colab_type": "text"
      },
      "source": [
        "# Normalization"
      ]
    },
    {
      "cell_type": "code",
      "metadata": {
        "id": "RmkmIBKJdOCy",
        "colab_type": "code",
        "outputId": "d92ec0cb-e31a-4749-92bd-c5d5310736ea",
        "colab": {
          "base_uri": "https://localhost:8080/",
          "height": 238
        }
      },
      "source": [
        "from sklearn.preprocessing import MinMaxScaler, StandardScaler\n",
        "\n",
        "scaler = StandardScaler()\n",
        "scaled_trainset = pd.DataFrame(scaler.fit_transform(oversampled_trainset.iloc[:, :-1]), columns=oversampled_trainset.columns[:-1])\n",
        "scaled_trainset['default.payment.next.month'] = oversampled_trainset.loc[:, ['default.payment.next.month']]\n",
        "print(scaled_trainset.head(10))"
      ],
      "execution_count": 293,
      "outputs": [
        {
          "output_type": "stream",
          "text": [
            "   LIMIT_BAL       SEX  ...  PAY_AMT6  default.payment.next.month\n",
            "0  -1.087689  0.982328  ... -0.311919                         1.0\n",
            "1  -0.233983  0.982328  ... -0.183900                         1.0\n",
            "2  -0.490095  0.982328  ...  0.008129                         0.0\n",
            "3  -0.831577  0.982328  ... -0.247909                         0.0\n",
            "4  -0.831577 -1.017990  ... -0.268457                         0.0\n",
            "5  -0.831577 -1.017990  ... -0.260711                         0.0\n",
            "6   3.010100 -1.017990  ...  0.569493                         0.0\n",
            "7  -0.404724  0.982328  ... -0.213216                         0.0\n",
            "8  -0.063242  0.982328  ... -0.247909                         0.0\n",
            "9  -1.087689 -1.017990  ... -0.311919                         0.0\n",
            "\n",
            "[10 rows x 19 columns]\n"
          ],
          "name": "stdout"
        }
      ]
    },
    {
      "cell_type": "markdown",
      "metadata": {
        "id": "kOq8ukZU5ajh",
        "colab_type": "text"
      },
      "source": [
        "# Neural networks"
      ]
    },
    {
      "cell_type": "code",
      "metadata": {
        "id": "nD081wEDzmdc",
        "colab_type": "code",
        "outputId": "e5f36e86-5eff-4a10-b090-f46f4301074e",
        "colab": {
          "base_uri": "https://localhost:8080/",
          "height": 425
        }
      },
      "source": [
        "from tensorflow.keras import models\n",
        "from tensorflow.keras import layers\n",
        "from tensorflow.keras import optimizers\n",
        "import keras_metrics\n",
        "\n",
        "model = models.Sequential()\n",
        "model.add(layers.Dense(32, input_shape=(scaled_trainset.shape[1]-1,), activation=\"relu\", kernel_initializer = \"he_normal\"))\n",
        "model.add(layers.Dense(64, activation=\"relu\", kernel_initializer = \"he_normal\"))\n",
        "model.add(layers.Dense(32, activation=\"relu\", kernel_initializer = \"he_normal\"))\n",
        "model.add(layers.Dense(1, activation=\"sigmoid\"))\n",
        "model.compile(optimizers.SGD(lr = 0.01, momentum=0.9, nesterov=True), loss=\"binary_crossentropy\", metrics =[\"accuracy\", keras_metrics.binary_precision(), keras_metrics.binary_recall(), keras_metrics.binary_f1_score()])\n",
        "model.summary()\n"
      ],
      "execution_count": 294,
      "outputs": [
        {
          "output_type": "stream",
          "text": [
            "tracking <tf.Variable 'Variable_136:0' shape=() dtype=int32> tp\n",
            "tracking <tf.Variable 'Variable_137:0' shape=() dtype=int32> fp\n",
            "tracking <tf.Variable 'Variable_138:0' shape=() dtype=int32> tp\n",
            "tracking <tf.Variable 'Variable_139:0' shape=() dtype=int32> fn\n",
            "tracking <tf.Variable 'Variable_140:0' shape=() dtype=int32> tp\n",
            "tracking <tf.Variable 'Variable_141:0' shape=() dtype=int32> fp\n",
            "tracking <tf.Variable 'Variable_142:0' shape=() dtype=int32> tp\n",
            "tracking <tf.Variable 'Variable_143:0' shape=() dtype=int32> fn\n",
            "Model: \"sequential_17\"\n",
            "_________________________________________________________________\n",
            "Layer (type)                 Output Shape              Param #   \n",
            "=================================================================\n",
            "dense_63 (Dense)             (None, 32)                608       \n",
            "_________________________________________________________________\n",
            "dense_64 (Dense)             (None, 64)                2112      \n",
            "_________________________________________________________________\n",
            "dense_65 (Dense)             (None, 32)                2080      \n",
            "_________________________________________________________________\n",
            "dense_66 (Dense)             (None, 1)                 33        \n",
            "=================================================================\n",
            "Total params: 4,833\n",
            "Trainable params: 4,833\n",
            "Non-trainable params: 0\n",
            "_________________________________________________________________\n"
          ],
          "name": "stdout"
        }
      ]
    },
    {
      "cell_type": "code",
      "metadata": {
        "id": "KcawsLuq4OL1",
        "colab_type": "code",
        "colab": {}
      },
      "source": [
        "X = scaled_trainset.iloc[:, :-1].values\n",
        "Y = scaled_trainset.iloc[:, -1].values"
      ],
      "execution_count": 0,
      "outputs": []
    },
    {
      "cell_type": "code",
      "metadata": {
        "id": "vb-n3jMuVE2X",
        "colab_type": "code",
        "outputId": "d12c87b0-f1bd-4d70-b11c-971c862870f6",
        "colab": {
          "base_uri": "https://localhost:8080/",
          "height": 34
        }
      },
      "source": [
        "print(len(scaled_trainset[scaled_trainset.iloc[:, -1] == 1]), len(scaled_trainset[scaled_trainset.iloc[:, -1] == 0]))"
      ],
      "execution_count": 295,
      "outputs": [
        {
          "output_type": "stream",
          "text": [
            "16771 16771\n"
          ],
          "name": "stdout"
        }
      ]
    },
    {
      "cell_type": "code",
      "metadata": {
        "id": "km0HuXKT5IjD",
        "colab_type": "code",
        "outputId": "e5a701c6-c4b5-4c66-c8f6-35f77ee54e27",
        "colab": {
          "base_uri": "https://localhost:8080/",
          "height": 496
        }
      },
      "source": [
        "from sklearn.utils import class_weight\n",
        "\n",
        "class_weights = class_weight.compute_class_weight('balanced', np.unique(Y), Y)\n",
        "print(class_weights)\n",
        "model.fit(X, Y, epochs=20, class_weight=dict(enumerate(class_weights, start=0)))"
      ],
      "execution_count": 296,
      "outputs": [
        {
          "output_type": "stream",
          "text": [
            "[1. 1.]\n",
            "Train on 42008 samples\n",
            "Epoch 1/20\n",
            "42008/42008 [==============================] - 7s 175us/sample - loss: 0.4272 - acc: 0.8225 - precision: 0.8392 - recall: 0.8013 - f1_score: 0.8135\n",
            "Epoch 2/20\n",
            "42008/42008 [==============================] - 7s 169us/sample - loss: 0.3765 - acc: 0.8445 - precision: 0.8698 - recall: 0.8120 - f1_score: 0.8351\n",
            "Epoch 3/20\n",
            "20416/42008 [=============>................] - ETA: 3s - loss: 0.3644 - acc: 0.8527 - precision: 0.8771 - recall: 0.8200 - f1_score: 0.8427"
          ],
          "name": "stdout"
        },
        {
          "output_type": "error",
          "ename": "KeyboardInterrupt",
          "evalue": "ignored",
          "traceback": [
            "\u001b[0;31m---------------------------------------------------------------------------\u001b[0m",
            "\u001b[0;31mKeyboardInterrupt\u001b[0m                         Traceback (most recent call last)",
            "\u001b[0;32m<ipython-input-296-b286aa7edc00>\u001b[0m in \u001b[0;36m<module>\u001b[0;34m()\u001b[0m\n\u001b[1;32m      3\u001b[0m \u001b[0mclass_weights\u001b[0m \u001b[0;34m=\u001b[0m \u001b[0mclass_weight\u001b[0m\u001b[0;34m.\u001b[0m\u001b[0mcompute_class_weight\u001b[0m\u001b[0;34m(\u001b[0m\u001b[0;34m'balanced'\u001b[0m\u001b[0;34m,\u001b[0m \u001b[0mnp\u001b[0m\u001b[0;34m.\u001b[0m\u001b[0munique\u001b[0m\u001b[0;34m(\u001b[0m\u001b[0mY\u001b[0m\u001b[0;34m)\u001b[0m\u001b[0;34m,\u001b[0m \u001b[0mY\u001b[0m\u001b[0;34m)\u001b[0m\u001b[0;34m\u001b[0m\u001b[0;34m\u001b[0m\u001b[0m\n\u001b[1;32m      4\u001b[0m \u001b[0mprint\u001b[0m\u001b[0;34m(\u001b[0m\u001b[0mclass_weights\u001b[0m\u001b[0;34m)\u001b[0m\u001b[0;34m\u001b[0m\u001b[0;34m\u001b[0m\u001b[0m\n\u001b[0;32m----> 5\u001b[0;31m \u001b[0mmodel\u001b[0m\u001b[0;34m.\u001b[0m\u001b[0mfit\u001b[0m\u001b[0;34m(\u001b[0m\u001b[0mX\u001b[0m\u001b[0;34m,\u001b[0m \u001b[0mY\u001b[0m\u001b[0;34m,\u001b[0m \u001b[0mepochs\u001b[0m\u001b[0;34m=\u001b[0m\u001b[0;36m20\u001b[0m\u001b[0;34m,\u001b[0m \u001b[0mclass_weight\u001b[0m\u001b[0;34m=\u001b[0m\u001b[0mdict\u001b[0m\u001b[0;34m(\u001b[0m\u001b[0menumerate\u001b[0m\u001b[0;34m(\u001b[0m\u001b[0mclass_weights\u001b[0m\u001b[0;34m,\u001b[0m \u001b[0mstart\u001b[0m\u001b[0;34m=\u001b[0m\u001b[0;36m0\u001b[0m\u001b[0;34m)\u001b[0m\u001b[0;34m)\u001b[0m\u001b[0;34m)\u001b[0m\u001b[0;34m\u001b[0m\u001b[0;34m\u001b[0m\u001b[0m\n\u001b[0m",
            "\u001b[0;32m/usr/local/lib/python3.6/dist-packages/tensorflow_core/python/keras/engine/training.py\u001b[0m in \u001b[0;36mfit\u001b[0;34m(self, x, y, batch_size, epochs, verbose, callbacks, validation_split, validation_data, shuffle, class_weight, sample_weight, initial_epoch, steps_per_epoch, validation_steps, validation_freq, max_queue_size, workers, use_multiprocessing, **kwargs)\u001b[0m\n\u001b[1;32m    725\u001b[0m         \u001b[0mmax_queue_size\u001b[0m\u001b[0;34m=\u001b[0m\u001b[0mmax_queue_size\u001b[0m\u001b[0;34m,\u001b[0m\u001b[0;34m\u001b[0m\u001b[0;34m\u001b[0m\u001b[0m\n\u001b[1;32m    726\u001b[0m         \u001b[0mworkers\u001b[0m\u001b[0;34m=\u001b[0m\u001b[0mworkers\u001b[0m\u001b[0;34m,\u001b[0m\u001b[0;34m\u001b[0m\u001b[0;34m\u001b[0m\u001b[0m\n\u001b[0;32m--> 727\u001b[0;31m         use_multiprocessing=use_multiprocessing)\n\u001b[0m\u001b[1;32m    728\u001b[0m \u001b[0;34m\u001b[0m\u001b[0m\n\u001b[1;32m    729\u001b[0m   def evaluate(self,\n",
            "\u001b[0;32m/usr/local/lib/python3.6/dist-packages/tensorflow_core/python/keras/engine/training_arrays.py\u001b[0m in \u001b[0;36mfit\u001b[0;34m(self, model, x, y, batch_size, epochs, verbose, callbacks, validation_split, validation_data, shuffle, class_weight, sample_weight, initial_epoch, steps_per_epoch, validation_steps, validation_freq, **kwargs)\u001b[0m\n\u001b[1;32m    673\u001b[0m         \u001b[0mvalidation_steps\u001b[0m\u001b[0;34m=\u001b[0m\u001b[0mvalidation_steps\u001b[0m\u001b[0;34m,\u001b[0m\u001b[0;34m\u001b[0m\u001b[0;34m\u001b[0m\u001b[0m\n\u001b[1;32m    674\u001b[0m         \u001b[0mvalidation_freq\u001b[0m\u001b[0;34m=\u001b[0m\u001b[0mvalidation_freq\u001b[0m\u001b[0;34m,\u001b[0m\u001b[0;34m\u001b[0m\u001b[0;34m\u001b[0m\u001b[0m\n\u001b[0;32m--> 675\u001b[0;31m         steps_name='steps_per_epoch')\n\u001b[0m\u001b[1;32m    676\u001b[0m \u001b[0;34m\u001b[0m\u001b[0m\n\u001b[1;32m    677\u001b[0m   def evaluate(self,\n",
            "\u001b[0;32m/usr/local/lib/python3.6/dist-packages/tensorflow_core/python/keras/engine/training_arrays.py\u001b[0m in \u001b[0;36mmodel_iteration\u001b[0;34m(model, inputs, targets, sample_weights, batch_size, epochs, verbose, callbacks, val_inputs, val_targets, val_sample_weights, shuffle, initial_epoch, steps_per_epoch, validation_steps, validation_freq, mode, validation_in_fit, prepared_feed_values_from_dataset, steps_name, **kwargs)\u001b[0m\n\u001b[1;32m    392\u001b[0m \u001b[0;34m\u001b[0m\u001b[0m\n\u001b[1;32m    393\u001b[0m         \u001b[0;31m# Get outputs.\u001b[0m\u001b[0;34m\u001b[0m\u001b[0;34m\u001b[0m\u001b[0;34m\u001b[0m\u001b[0m\n\u001b[0;32m--> 394\u001b[0;31m         \u001b[0mbatch_outs\u001b[0m \u001b[0;34m=\u001b[0m \u001b[0mf\u001b[0m\u001b[0;34m(\u001b[0m\u001b[0mins_batch\u001b[0m\u001b[0;34m)\u001b[0m\u001b[0;34m\u001b[0m\u001b[0;34m\u001b[0m\u001b[0m\n\u001b[0m\u001b[1;32m    395\u001b[0m         \u001b[0;32mif\u001b[0m \u001b[0;32mnot\u001b[0m \u001b[0misinstance\u001b[0m\u001b[0;34m(\u001b[0m\u001b[0mbatch_outs\u001b[0m\u001b[0;34m,\u001b[0m \u001b[0mlist\u001b[0m\u001b[0;34m)\u001b[0m\u001b[0;34m:\u001b[0m\u001b[0;34m\u001b[0m\u001b[0;34m\u001b[0m\u001b[0m\n\u001b[1;32m    396\u001b[0m           \u001b[0mbatch_outs\u001b[0m \u001b[0;34m=\u001b[0m \u001b[0;34m[\u001b[0m\u001b[0mbatch_outs\u001b[0m\u001b[0;34m]\u001b[0m\u001b[0;34m\u001b[0m\u001b[0;34m\u001b[0m\u001b[0m\n",
            "\u001b[0;32m/usr/local/lib/python3.6/dist-packages/tensorflow_core/python/keras/backend.py\u001b[0m in \u001b[0;36m__call__\u001b[0;34m(self, inputs)\u001b[0m\n\u001b[1;32m   3474\u001b[0m \u001b[0;34m\u001b[0m\u001b[0m\n\u001b[1;32m   3475\u001b[0m     fetched = self._callable_fn(*array_vals,\n\u001b[0;32m-> 3476\u001b[0;31m                                 run_metadata=self.run_metadata)\n\u001b[0m\u001b[1;32m   3477\u001b[0m     \u001b[0mself\u001b[0m\u001b[0;34m.\u001b[0m\u001b[0m_call_fetch_callbacks\u001b[0m\u001b[0;34m(\u001b[0m\u001b[0mfetched\u001b[0m\u001b[0;34m[\u001b[0m\u001b[0;34m-\u001b[0m\u001b[0mlen\u001b[0m\u001b[0;34m(\u001b[0m\u001b[0mself\u001b[0m\u001b[0;34m.\u001b[0m\u001b[0m_fetches\u001b[0m\u001b[0;34m)\u001b[0m\u001b[0;34m:\u001b[0m\u001b[0;34m]\u001b[0m\u001b[0;34m)\u001b[0m\u001b[0;34m\u001b[0m\u001b[0;34m\u001b[0m\u001b[0m\n\u001b[1;32m   3478\u001b[0m     output_structure = nest.pack_sequence_as(\n",
            "\u001b[0;32m/usr/local/lib/python3.6/dist-packages/tensorflow_core/python/client/session.py\u001b[0m in \u001b[0;36m__call__\u001b[0;34m(self, *args, **kwargs)\u001b[0m\n\u001b[1;32m   1470\u001b[0m         ret = tf_session.TF_SessionRunCallable(self._session._session,\n\u001b[1;32m   1471\u001b[0m                                                \u001b[0mself\u001b[0m\u001b[0;34m.\u001b[0m\u001b[0m_handle\u001b[0m\u001b[0;34m,\u001b[0m \u001b[0margs\u001b[0m\u001b[0;34m,\u001b[0m\u001b[0;34m\u001b[0m\u001b[0;34m\u001b[0m\u001b[0m\n\u001b[0;32m-> 1472\u001b[0;31m                                                run_metadata_ptr)\n\u001b[0m\u001b[1;32m   1473\u001b[0m         \u001b[0;32mif\u001b[0m \u001b[0mrun_metadata\u001b[0m\u001b[0;34m:\u001b[0m\u001b[0;34m\u001b[0m\u001b[0;34m\u001b[0m\u001b[0m\n\u001b[1;32m   1474\u001b[0m           \u001b[0mproto_data\u001b[0m \u001b[0;34m=\u001b[0m \u001b[0mtf_session\u001b[0m\u001b[0;34m.\u001b[0m\u001b[0mTF_GetBuffer\u001b[0m\u001b[0;34m(\u001b[0m\u001b[0mrun_metadata_ptr\u001b[0m\u001b[0;34m)\u001b[0m\u001b[0;34m\u001b[0m\u001b[0;34m\u001b[0m\u001b[0m\n",
            "\u001b[0;31mKeyboardInterrupt\u001b[0m: "
          ]
        }
      ]
    },
    {
      "cell_type": "code",
      "metadata": {
        "id": "u7i4cZ_B5Oaz",
        "colab_type": "code",
        "colab": {}
      },
      "source": [
        ""
      ],
      "execution_count": 0,
      "outputs": []
    }
  ]
}