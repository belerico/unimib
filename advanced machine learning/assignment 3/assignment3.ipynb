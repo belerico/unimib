{
  "nbformat": 4,
  "nbformat_minor": 0,
  "metadata": {
    "colab": {
      "name": "assignment3.ipynb",
      "provenance": []
    },
    "kernelspec": {
      "name": "python3",
      "display_name": "Python 3"
    },
    "accelerator": "GPU"
  },
  "cells": [
    {
      "cell_type": "code",
      "metadata": {
        "id": "y0ksxFGbEkUv",
        "colab_type": "code",
        "colab": {}
      },
      "source": [
        "import numpy as np\n",
        "import keras\n",
        "import tensorflow as tf\n",
        "from keras import models\n",
        "from keras import layers\n",
        "from keras.datasets import mnist\n",
        "from keras import backend as K\n",
        "import random\n",
        "\n",
        "(x_train, y_train), (x_test, y_test) = mnist.load_data()\n",
        "img_rows, img_cols = 28, 28\n",
        "\n",
        "if K.image_data_format() == 'channels_first':\n",
        "    x_train = x_train.reshape(x_train.shape[0], 1, img_rows, img_cols)\n",
        "    x_test = x_test.reshape(x_test.shape[0], 1, img_rows, img_cols)\n",
        "    input_shape = (1, img_rows, img_cols)\n",
        "else:\n",
        "    x_train = x_train.reshape(x_train.shape[0], img_rows, img_cols, 1)\n",
        "    x_test = x_test.reshape(x_test.shape[0], img_rows, img_cols, 1)\n",
        "    input_shape = (img_rows, img_cols, 1)\n",
        "\n",
        "indexes = np.arange(x_train.shape[0])\n",
        "random.seed(42)\n",
        "random.shuffle(indexes)\n",
        "\n",
        "train_val_split = int(0.8 * x_train.shape[0])\n",
        "x_val = x_train[indexes[train_val_split:], :]\n",
        "y_val = y_train[indexes[train_val_split:]]\n",
        "x_train = x_train[indexes[:train_val_split], :]\n",
        "y_train = y_train[indexes[:train_val_split]]\n",
        "\n",
        "x_train = x_train.astype('float32')\n",
        "x_val = x_val.astype('float32')\n",
        "x_test = x_test.astype('float32')\n",
        "\n",
        "x_train = x_train / 255.\n",
        "x_val = x_val / 255.\n",
        "x_test = x_test / 255."
      ],
      "execution_count": 0,
      "outputs": []
    },
    {
      "cell_type": "code",
      "metadata": {
        "id": "wQG7lkCtQrxn",
        "colab_type": "code",
        "outputId": "dd9c2836-8e51-47b3-d85f-b5447fe6e349",
        "colab": {
          "base_uri": "https://localhost:8080/",
          "height": 319
        }
      },
      "source": [
        "from collections import Counter\n",
        "from matplotlib import pyplot as plt\n",
        "%matplotlib inline\n",
        "\n",
        "print('train size:', len(x_train))\n",
        "print('test size:', len(x_train))\n",
        "data_distribution = sorted(Counter(y_train).items())\n",
        "print('labels distribution:', data_distribution)\n",
        "x = np.arange(len(data_distribution))\n",
        "plt.bar(x, height=[val for _, val in data_distribution])\n",
        "plt.xticks(x, ['0', '1', '2', '3', '4', '5', '6', '7', '8', '9'])\n",
        "plt.show()"
      ],
      "execution_count": 0,
      "outputs": [
        {
          "output_type": "stream",
          "text": [
            "train size: 60000\n",
            "test size: 60000\n",
            "labels distribution: [(0, 5923), (1, 6742), (2, 5958), (3, 6131), (4, 5842), (5, 5421), (6, 5918), (7, 6265), (8, 5851), (9, 5949)]\n"
          ],
          "name": "stdout"
        },
        {
          "output_type": "display_data",
          "data": {
            "image/png": "[encoded data removed]",
            "text/plain": [
              "<Figure size 432x288 with 1 Axes>"
            ]
          },
          "metadata": {
            "tags": []
          }
        }
      ]
    },
    {
      "cell_type": "markdown",
      "metadata": {
        "id": "mEkH63goZzZn",
        "colab_type": "text"
      },
      "source": [
        "# Normalization"
      ]
    },
    {
      "cell_type": "code",
      "metadata": {
        "id": "ee77skzNZwac",
        "colab_type": "code",
        "colab": {}
      },
      "source": [
        "mean = np.mean(x_train)\n",
        "std = np.std(x_train)\n",
        "x_train = (x_train - mean) / std\n",
        "x_val = (x_val - mean) / std\n",
        "x_test = (x_test- mean) / std"
      ],
      "execution_count": 0,
      "outputs": []
    },
    {
      "cell_type": "markdown",
      "metadata": {
        "id": "V3gXwvEma6hQ",
        "colab_type": "text"
      },
      "source": [
        "# Networks"
      ]
    },
    {
      "cell_type": "code",
      "metadata": {
        "id": "BDKywjreaAol",
        "colab_type": "code",
        "outputId": "20da2682-902e-4027-9bd9-69447a46a676",
        "colab": {
          "base_uri": "https://localhost:8080/",
          "height": 697
        }
      },
      "source": [
        "model = models.Sequential()\n",
        "model.add(layers.Conv2D(filters=8, kernel_size=3, strides=1, input_shape=input_shape))\n",
        "model.add(layers.Activation(activation='relu'))\n",
        "model.add(layers.MaxPooling2D(pool_size=(2, 2)))\n",
        "model.add(layers.BatchNormalization())\n",
        "\n",
        "\n",
        "model.add(layers.Conv2D(filters=16, kernel_size=3, strides=1))\n",
        "model.add(layers.Activation(activation='relu'))\n",
        "model.add(layers.MaxPooling2D(pool_size=(2, 2)))\n",
        "model.add(layers.BatchNormalization())\n",
        "\n",
        "\n",
        "model.add(layers.Conv2D(filters=32, kernel_size=3, strides=1))\n",
        "model.add(layers.Activation(activation='relu'))\n",
        "model.add(layers.MaxPooling2D(pool_size=(2, 2)))\n",
        "model.add(layers.BatchNormalization())\n",
        "\n",
        "\n",
        "model.add(layers.Flatten())\n",
        "model.add(layers.Dropout(0.3))\n",
        "model.add(layers.Dense(32, activation='relu'))\n",
        "# model.add(layers.Dense(16, activation='relu'))\n",
        "model.add(layers.Dense(10, activation='softmax'))\n",
        "model.compile(loss=keras.losses.sparse_categorical_crossentropy, optimizer=keras.optimizers.Adam(), metrics=['accuracy'])\n",
        "model.summary()"
      ],
      "execution_count": 25,
      "outputs": [
        {
          "output_type": "stream",
          "text": [
            "Model: \"sequential_4\"\n",
            "_________________________________________________________________\n",
            "Layer (type)                 Output Shape              Param #   \n",
            "=================================================================\n",
            "conv2d_10 (Conv2D)           (None, 26, 26, 8)         80        \n",
            "_________________________________________________________________\n",
            "activation_10 (Activation)   (None, 26, 26, 8)         0         \n",
            "_________________________________________________________________\n",
            "max_pooling2d_7 (MaxPooling2 (None, 13, 13, 8)         0         \n",
            "_________________________________________________________________\n",
            "batch_normalization_7 (Batch (None, 13, 13, 8)         32        \n",
            "_________________________________________________________________\n",
            "conv2d_11 (Conv2D)           (None, 11, 11, 16)        1168      \n",
            "_________________________________________________________________\n",
            "activation_11 (Activation)   (None, 11, 11, 16)        0         \n",
            "_________________________________________________________________\n",
            "max_pooling2d_8 (MaxPooling2 (None, 5, 5, 16)          0         \n",
            "_________________________________________________________________\n",
            "batch_normalization_8 (Batch (None, 5, 5, 16)          64        \n",
            "_________________________________________________________________\n",
            "conv2d_12 (Conv2D)           (None, 3, 3, 32)          4640      \n",
            "_________________________________________________________________\n",
            "activation_12 (Activation)   (None, 3, 3, 32)          0         \n",
            "_________________________________________________________________\n",
            "max_pooling2d_9 (MaxPooling2 (None, 1, 1, 32)          0         \n",
            "_________________________________________________________________\n",
            "batch_normalization_9 (Batch (None, 1, 1, 32)          128       \n",
            "_________________________________________________________________\n",
            "flatten_4 (Flatten)          (None, 32)                0         \n",
            "_________________________________________________________________\n",
            "dropout_2 (Dropout)          (None, 32)                0         \n",
            "_________________________________________________________________\n",
            "dense_6 (Dense)              (None, 32)                1056      \n",
            "_________________________________________________________________\n",
            "dense_7 (Dense)              (None, 10)                330       \n",
            "=================================================================\n",
            "Total params: 7,498\n",
            "Trainable params: 7,386\n",
            "Non-trainable params: 112\n",
            "_________________________________________________________________\n"
          ],
          "name": "stdout"
        }
      ]
    },
    {
      "cell_type": "code",
      "metadata": {
        "id": "FKPjXsILcw0k",
        "colab_type": "code",
        "outputId": "9ab88be8-f4c0-49c4-f409-aed306b8d3dd",
        "colab": {
          "base_uri": "https://localhost:8080/",
          "height": 1000
        }
      },
      "source": [
        "from keras.callbacks import EarlyStopping, ReduceLROnPlateau\n",
        "\n",
        "monitor = 'loss'\n",
        "early_stopping = EarlyStopping(monitor=monitor, patience=10, min_delta=0.001, restore_best_weights=True)\n",
        "lr_scheduler = ReduceLROnPlateau(monitor=monitor, factor=0.1, patience=10, verbose=1)\n",
        "callbacks = [early_stopping]\n",
        "\n",
        "history = model.fit(\n",
        "  x_train, \n",
        "  y_train,\n",
        "  validation_data=(x_val, y_val),\n",
        "  batch_size=256,\n",
        "  epochs=200,\n",
        "  verbose=1,\n",
        "  callbacks=callbacks\n",
        ")"
      ],
      "execution_count": 26,
      "outputs": [
        {
          "output_type": "stream",
          "text": [
            "Train on 48000 samples, validate on 12000 samples\n",
            "Epoch 1/200\n",
            "48000/48000 [==============================] - 4s 92us/step - loss: 0.8941 - acc: 0.7221 - val_loss: 0.2662 - val_acc: 0.9202\n",
            "Epoch 2/200\n",
            "48000/48000 [==============================] - 3s 63us/step - loss: 0.2650 - acc: 0.9230 - val_loss: 0.1429 - val_acc: 0.9550\n",
            "Epoch 3/200\n",
            "48000/48000 [==============================] - 3s 61us/step - loss: 0.1829 - acc: 0.9450 - val_loss: 0.1119 - val_acc: 0.9643\n",
            "Epoch 4/200\n",
            "48000/48000 [==============================] - 3s 60us/step - loss: 0.1492 - acc: 0.9553 - val_loss: 0.0976 - val_acc: 0.9690\n",
            "Epoch 5/200\n",
            "48000/48000 [==============================] - 3s 60us/step - loss: 0.1337 - acc: 0.9593 - val_loss: 0.0905 - val_acc: 0.9699\n",
            "Epoch 6/200\n",
            "48000/48000 [==============================] - 3s 61us/step - loss: 0.1180 - acc: 0.9646 - val_loss: 0.0844 - val_acc: 0.9734\n",
            "Epoch 7/200\n",
            "48000/48000 [==============================] - 3s 61us/step - loss: 0.1103 - acc: 0.9658 - val_loss: 0.0791 - val_acc: 0.9743\n",
            "Epoch 8/200\n",
            "48000/48000 [==============================] - 3s 63us/step - loss: 0.1033 - acc: 0.9683 - val_loss: 0.0778 - val_acc: 0.9754\n",
            "Epoch 9/200\n",
            "48000/48000 [==============================] - 3s 61us/step - loss: 0.0977 - acc: 0.9704 - val_loss: 0.0712 - val_acc: 0.9767\n",
            "Epoch 10/200\n",
            "48000/48000 [==============================] - 3s 61us/step - loss: 0.0908 - acc: 0.9722 - val_loss: 0.0699 - val_acc: 0.9784\n",
            "Epoch 11/200\n",
            "48000/48000 [==============================] - 3s 62us/step - loss: 0.0877 - acc: 0.9739 - val_loss: 0.0694 - val_acc: 0.9772\n",
            "Epoch 12/200\n",
            "48000/48000 [==============================] - 3s 61us/step - loss: 0.0828 - acc: 0.9743 - val_loss: 0.0690 - val_acc: 0.9777\n",
            "Epoch 13/200\n",
            "48000/48000 [==============================] - 3s 61us/step - loss: 0.0803 - acc: 0.9759 - val_loss: 0.0651 - val_acc: 0.9792\n",
            "Epoch 14/200\n",
            "48000/48000 [==============================] - 3s 61us/step - loss: 0.0781 - acc: 0.9756 - val_loss: 0.0661 - val_acc: 0.9792\n",
            "Epoch 15/200\n",
            "48000/48000 [==============================] - 3s 62us/step - loss: 0.0727 - acc: 0.9775 - val_loss: 0.0614 - val_acc: 0.9793\n",
            "Epoch 16/200\n",
            "48000/48000 [==============================] - 3s 61us/step - loss: 0.0719 - acc: 0.9776 - val_loss: 0.0605 - val_acc: 0.9802\n",
            "Epoch 17/200\n",
            "48000/48000 [==============================] - 3s 61us/step - loss: 0.0708 - acc: 0.9767 - val_loss: 0.0611 - val_acc: 0.9807\n",
            "Epoch 18/200\n",
            "48000/48000 [==============================] - 3s 61us/step - loss: 0.0652 - acc: 0.9797 - val_loss: 0.0600 - val_acc: 0.9809\n",
            "Epoch 19/200\n",
            "48000/48000 [==============================] - 3s 60us/step - loss: 0.0642 - acc: 0.9801 - val_loss: 0.0614 - val_acc: 0.9808\n",
            "Epoch 20/200\n",
            "48000/48000 [==============================] - 3s 60us/step - loss: 0.0664 - acc: 0.9787 - val_loss: 0.0589 - val_acc: 0.9814\n",
            "Epoch 21/200\n",
            "48000/48000 [==============================] - 3s 60us/step - loss: 0.0618 - acc: 0.9805 - val_loss: 0.0591 - val_acc: 0.9817\n",
            "Epoch 22/200\n",
            "48000/48000 [==============================] - 3s 60us/step - loss: 0.0611 - acc: 0.9802 - val_loss: 0.0573 - val_acc: 0.9806\n",
            "Epoch 23/200\n",
            "48000/48000 [==============================] - 3s 60us/step - loss: 0.0621 - acc: 0.9803 - val_loss: 0.0573 - val_acc: 0.9811\n",
            "Epoch 24/200\n",
            "48000/48000 [==============================] - 3s 60us/step - loss: 0.0594 - acc: 0.9816 - val_loss: 0.0595 - val_acc: 0.9810\n",
            "Epoch 25/200\n",
            "48000/48000 [==============================] - 3s 61us/step - loss: 0.0567 - acc: 0.9817 - val_loss: 0.0595 - val_acc: 0.9821\n",
            "Epoch 26/200\n",
            "48000/48000 [==============================] - 3s 60us/step - loss: 0.0550 - acc: 0.9824 - val_loss: 0.0549 - val_acc: 0.9832\n",
            "Epoch 27/200\n",
            "48000/48000 [==============================] - 3s 62us/step - loss: 0.0535 - acc: 0.9827 - val_loss: 0.0593 - val_acc: 0.9818\n",
            "Epoch 28/200\n",
            "48000/48000 [==============================] - 3s 60us/step - loss: 0.0513 - acc: 0.9831 - val_loss: 0.0574 - val_acc: 0.9829\n",
            "Epoch 29/200\n",
            "48000/48000 [==============================] - 3s 60us/step - loss: 0.0525 - acc: 0.9828 - val_loss: 0.0592 - val_acc: 0.9821\n",
            "Epoch 30/200\n",
            "48000/48000 [==============================] - 3s 62us/step - loss: 0.0524 - acc: 0.9829 - val_loss: 0.0594 - val_acc: 0.9818\n",
            "Epoch 31/200\n",
            "48000/48000 [==============================] - 3s 62us/step - loss: 0.0521 - acc: 0.9829 - val_loss: 0.0568 - val_acc: 0.9829\n",
            "Epoch 32/200\n",
            "48000/48000 [==============================] - 3s 60us/step - loss: 0.0481 - acc: 0.9842 - val_loss: 0.0572 - val_acc: 0.9819\n",
            "Epoch 33/200\n",
            "48000/48000 [==============================] - 3s 60us/step - loss: 0.0478 - acc: 0.9845 - val_loss: 0.0591 - val_acc: 0.9819\n",
            "Epoch 34/200\n",
            "48000/48000 [==============================] - 3s 60us/step - loss: 0.0491 - acc: 0.9838 - val_loss: 0.0594 - val_acc: 0.9822\n",
            "Epoch 35/200\n",
            "48000/48000 [==============================] - 3s 60us/step - loss: 0.0495 - acc: 0.9838 - val_loss: 0.0561 - val_acc: 0.9832\n",
            "Epoch 36/200\n",
            "48000/48000 [==============================] - 3s 60us/step - loss: 0.0467 - acc: 0.9846 - val_loss: 0.0556 - val_acc: 0.9828\n",
            "Epoch 37/200\n",
            "48000/48000 [==============================] - 3s 62us/step - loss: 0.0480 - acc: 0.9838 - val_loss: 0.0577 - val_acc: 0.9828\n",
            "Epoch 38/200\n",
            "48000/48000 [==============================] - 3s 64us/step - loss: 0.0452 - acc: 0.9852 - val_loss: 0.0560 - val_acc: 0.9827\n",
            "Epoch 39/200\n",
            "48000/48000 [==============================] - 3s 62us/step - loss: 0.0445 - acc: 0.9852 - val_loss: 0.0557 - val_acc: 0.9825\n",
            "Epoch 40/200\n",
            "48000/48000 [==============================] - 3s 60us/step - loss: 0.0436 - acc: 0.9860 - val_loss: 0.0537 - val_acc: 0.9842\n",
            "Epoch 41/200\n",
            "48000/48000 [==============================] - 3s 59us/step - loss: 0.0449 - acc: 0.9851 - val_loss: 0.0538 - val_acc: 0.9841\n",
            "Epoch 42/200\n",
            "48000/48000 [==============================] - 3s 60us/step - loss: 0.0433 - acc: 0.9860 - val_loss: 0.0582 - val_acc: 0.9839\n",
            "Epoch 43/200\n",
            "48000/48000 [==============================] - 3s 61us/step - loss: 0.0434 - acc: 0.9855 - val_loss: 0.0577 - val_acc: 0.9833\n",
            "Epoch 44/200\n",
            "48000/48000 [==============================] - 3s 60us/step - loss: 0.0427 - acc: 0.9858 - val_loss: 0.0550 - val_acc: 0.9844\n",
            "Epoch 45/200\n",
            "48000/48000 [==============================] - 3s 61us/step - loss: 0.0424 - acc: 0.9856 - val_loss: 0.0585 - val_acc: 0.9837\n",
            "Epoch 46/200\n",
            "48000/48000 [==============================] - 3s 61us/step - loss: 0.0416 - acc: 0.9856 - val_loss: 0.0553 - val_acc: 0.9842\n",
            "Epoch 47/200\n",
            "48000/48000 [==============================] - 3s 60us/step - loss: 0.0396 - acc: 0.9870 - val_loss: 0.0561 - val_acc: 0.9842\n",
            "Epoch 48/200\n",
            "48000/48000 [==============================] - 3s 60us/step - loss: 0.0413 - acc: 0.9861 - val_loss: 0.0574 - val_acc: 0.9842\n",
            "Epoch 49/200\n",
            "48000/48000 [==============================] - 3s 60us/step - loss: 0.0415 - acc: 0.9863 - val_loss: 0.0575 - val_acc: 0.9832\n",
            "Epoch 50/200\n",
            "48000/48000 [==============================] - 3s 60us/step - loss: 0.0399 - acc: 0.9869 - val_loss: 0.0561 - val_acc: 0.9841\n",
            "Epoch 51/200\n",
            "48000/48000 [==============================] - 3s 60us/step - loss: 0.0393 - acc: 0.9869 - val_loss: 0.0586 - val_acc: 0.9840\n",
            "Epoch 52/200\n",
            "48000/48000 [==============================] - 3s 60us/step - loss: 0.0387 - acc: 0.9873 - val_loss: 0.0581 - val_acc: 0.9835\n",
            "Epoch 53/200\n",
            "48000/48000 [==============================] - 3s 61us/step - loss: 0.0387 - acc: 0.9867 - val_loss: 0.0601 - val_acc: 0.9829\n",
            "Epoch 54/200\n",
            "48000/48000 [==============================] - 3s 61us/step - loss: 0.0379 - acc: 0.9873 - val_loss: 0.0587 - val_acc: 0.9844\n",
            "Epoch 55/200\n",
            "48000/48000 [==============================] - 3s 60us/step - loss: 0.0394 - acc: 0.9870 - val_loss: 0.0586 - val_acc: 0.9842\n",
            "Epoch 56/200\n",
            "48000/48000 [==============================] - 3s 62us/step - loss: 0.0376 - acc: 0.9874 - val_loss: 0.0568 - val_acc: 0.9840\n",
            "Epoch 57/200\n",
            "48000/48000 [==============================] - 3s 63us/step - loss: 0.0357 - acc: 0.9885 - val_loss: 0.0596 - val_acc: 0.9837\n",
            "Epoch 58/200\n",
            "48000/48000 [==============================] - 3s 64us/step - loss: 0.0371 - acc: 0.9873 - val_loss: 0.0560 - val_acc: 0.9833\n",
            "Epoch 59/200\n",
            "48000/48000 [==============================] - 3s 64us/step - loss: 0.0373 - acc: 0.9878 - val_loss: 0.0601 - val_acc: 0.9840\n",
            "Epoch 60/200\n",
            "48000/48000 [==============================] - 3s 65us/step - loss: 0.0352 - acc: 0.9878 - val_loss: 0.0591 - val_acc: 0.9841\n",
            "Epoch 61/200\n",
            "48000/48000 [==============================] - 3s 65us/step - loss: 0.0358 - acc: 0.9885 - val_loss: 0.0561 - val_acc: 0.9851\n",
            "Epoch 62/200\n",
            "48000/48000 [==============================] - 3s 66us/step - loss: 0.0363 - acc: 0.9878 - val_loss: 0.0598 - val_acc: 0.9832\n",
            "Epoch 63/200\n",
            "48000/48000 [==============================] - 3s 66us/step - loss: 0.0350 - acc: 0.9880 - val_loss: 0.0568 - val_acc: 0.9844\n",
            "Epoch 64/200\n",
            "48000/48000 [==============================] - 3s 66us/step - loss: 0.0349 - acc: 0.9880 - val_loss: 0.0579 - val_acc: 0.9853\n",
            "Epoch 65/200\n",
            "48000/48000 [==============================] - 3s 66us/step - loss: 0.0354 - acc: 0.9877 - val_loss: 0.0553 - val_acc: 0.9838\n",
            "Epoch 66/200\n",
            "48000/48000 [==============================] - 3s 66us/step - loss: 0.0355 - acc: 0.9882 - val_loss: 0.0549 - val_acc: 0.9853\n",
            "Epoch 67/200\n",
            "48000/48000 [==============================] - 3s 65us/step - loss: 0.0350 - acc: 0.9884 - val_loss: 0.0561 - val_acc: 0.9842\n"
          ],
          "name": "stdout"
        }
      ]
    },
    {
      "cell_type": "code",
      "metadata": {
        "id": "RHvndvIrg0KH",
        "colab_type": "code",
        "outputId": "8066f4ab-52be-401b-de74-1a2cf445463f",
        "colab": {
          "base_uri": "https://localhost:8080/",
          "height": 544
        }
      },
      "source": [
        "import matplotlib.pyplot as plt\n",
        "%matplotlib inline\n",
        "\n",
        "x_plot = list(range(1, len(history.history['val_acc']) + 1))\n",
        "\n",
        "def plot_history(history):\n",
        "    plt.figure()\n",
        "    plt.xlabel('Epochs')\n",
        "    plt.ylabel('Loss')\n",
        "    plt.plot(x_plot, history.history['loss'])\n",
        "    plt.plot(x_plot, history.history['val_loss'])\n",
        "    plt.legend(['Training', 'Validation'])\n",
        "\n",
        "    plt.figure()\n",
        "    plt.xlabel('Epochs')\n",
        "    plt.ylabel('Accuracy')\n",
        "    plt.plot(x_plot, history.history['acc'])\n",
        "    plt.plot(x_plot, history.history['val_acc'])\n",
        "    plt.legend(['Training', 'Validation'], loc='lower right')\n",
        "    plt.show()\n",
        "\n",
        "plot_history(history)"
      ],
      "execution_count": 27,
      "outputs": [
        {
          "output_type": "display_data",
          "data": {
            "image/png": "[encoded data removed]",
            "text/plain": [
              "<Figure size 432x288 with 1 Axes>"
            ]
          },
          "metadata": {
            "tags": []
          }
        },
        {
          "output_type": "display_data",
          "data": {
            "image/png": "[encoded data removed]",
            "text/plain": [
              "<Figure size 432x288 with 1 Axes>"
            ]
          },
          "metadata": {
            "tags": []
          }
        }
      ]
    },
    {
      "cell_type": "code",
      "metadata": {
        "id": "Wz-rDScwNgT5",
        "colab_type": "code",
        "outputId": "1d0507a7-66fc-4f66-8417-6869379d8e22",
        "colab": {
          "base_uri": "https://localhost:8080/",
          "height": 51
        }
      },
      "source": [
        "model.evaluate(x_test, y_test)"
      ],
      "execution_count": 28,
      "outputs": [
        {
          "output_type": "stream",
          "text": [
            "10000/10000 [==============================] - 1s 95us/step\n"
          ],
          "name": "stdout"
        },
        {
          "output_type": "execute_result",
          "data": {
            "text/plain": [
              "[0.054923502241638195, 0.9849]"
            ]
          },
          "metadata": {
            "tags": []
          },
          "execution_count": 28
        }
      ]
    },
    {
      "cell_type": "code",
      "metadata": {
        "id": "UDfTmNG4o_1c",
        "colab_type": "code",
        "outputId": "027a388e-3b02-4828-c1df-0558c4403423",
        "colab": {
          "base_uri": "https://localhost:8080/",
          "height": 306
        }
      },
      "source": [
        "from sklearn.metrics import classification_report\n",
        "\n",
        "# labels_val_from_categorical = np.argmax(labels_val, axis=1)\n",
        "predictions = np.argmax(model.predict(x_test), axis=1)\n",
        "print(classification_report(y_test, predictions))"
      ],
      "execution_count": 29,
      "outputs": [
        {
          "output_type": "stream",
          "text": [
            "              precision    recall  f1-score   support\n",
            "\n",
            "           0       0.99      0.99      0.99       980\n",
            "           1       0.99      1.00      0.99      1135\n",
            "           2       0.98      0.97      0.98      1032\n",
            "           3       0.99      0.99      0.99      1010\n",
            "           4       0.99      0.99      0.99       982\n",
            "           5       0.99      0.99      0.99       892\n",
            "           6       0.99      0.99      0.99       958\n",
            "           7       0.96      0.98      0.97      1028\n",
            "           8       0.99      0.98      0.98       974\n",
            "           9       0.98      0.98      0.98      1009\n",
            "\n",
            "    accuracy                           0.98     10000\n",
            "   macro avg       0.98      0.98      0.98     10000\n",
            "weighted avg       0.98      0.98      0.98     10000\n",
            "\n"
          ],
          "name": "stdout"
        }
      ]
    },
    {
      "cell_type": "code",
      "metadata": {
        "id": "VLGKG4GrOc9p",
        "colab_type": "code",
        "colab": {}
      },
      "source": [
        ""
      ],
      "execution_count": 0,
      "outputs": []
    }
  ]
}